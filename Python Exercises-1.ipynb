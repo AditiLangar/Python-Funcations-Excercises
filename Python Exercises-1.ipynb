{
 "cells": [
  {
   "cell_type": "code",
   "execution_count": 1,
   "metadata": {},
   "outputs": [],
   "source": [
    "# Exercise 1: Given two integer numbers return their product. If the product is greater than 1000, then return their sum"
   ]
  },
  {
   "cell_type": "code",
   "execution_count": 2,
   "metadata": {},
   "outputs": [],
   "source": [
    "def prod_sum(a,b):\n",
    "    c = a*b\n",
    "    \n",
    "    if c > 1000:\n",
    "        return (a+b)\n",
    "    else:\n",
    "        return c"
   ]
  },
  {
   "cell_type": "code",
   "execution_count": 3,
   "metadata": {},
   "outputs": [
    {
     "data": {
      "text/plain": [
       "30"
      ]
     },
     "execution_count": 3,
     "metadata": {},
     "output_type": "execute_result"
    }
   ],
   "source": [
    "prod_sum(5,6)"
   ]
  },
  {
   "cell_type": "code",
   "execution_count": 4,
   "metadata": {},
   "outputs": [
    {
     "data": {
      "text/plain": [
       "1100"
      ]
     },
     "execution_count": 4,
     "metadata": {},
     "output_type": "execute_result"
    }
   ],
   "source": [
    "prod_sum(500,600)"
   ]
  },
  {
   "cell_type": "code",
   "execution_count": 5,
   "metadata": {},
   "outputs": [
    {
     "data": {
      "text/plain": [
       "40"
      ]
     },
     "execution_count": 5,
     "metadata": {},
     "output_type": "execute_result"
    }
   ],
   "source": [
    "prod_sum(5,8)"
   ]
  },
  {
   "cell_type": "code",
   "execution_count": 6,
   "metadata": {},
   "outputs": [
    {
     "data": {
      "text/plain": [
       "1100"
      ]
     },
     "execution_count": 6,
     "metadata": {},
     "output_type": "execute_result"
    }
   ],
   "source": [
    "prod_sum(1000,100)"
   ]
  },
  {
   "cell_type": "code",
   "execution_count": 8,
   "metadata": {},
   "outputs": [],
   "source": [
    "# Exercise 2: Given a range of the first 10 numbers, Iterate from the start number to the end number,\n",
    "# and In each iteration print the sum of the current number and previous number"
   ]
  },
  {
   "cell_type": "code",
   "execution_count": 9,
   "metadata": {},
   "outputs": [],
   "source": [
    "def sumNum(num):\n",
    "    previousNum = 0\n",
    "    for value in range(num):\n",
    "        newNum = previousNum + value\n",
    "        print('Previous Number is: ', previousNum, 'Current Number is: ', value, 'Sum: ', newNum)\n",
    "        previousNum = value"
   ]
  },
  {
   "cell_type": "code",
   "execution_count": 10,
   "metadata": {},
   "outputs": [
    {
     "name": "stdout",
     "output_type": "stream",
     "text": [
      "Previous Number is:  0 Current Number is:  0 Sum:  0\n",
      "Previous Number is:  0 Current Number is:  1 Sum:  1\n",
      "Previous Number is:  1 Current Number is:  2 Sum:  3\n",
      "Previous Number is:  2 Current Number is:  3 Sum:  5\n",
      "Previous Number is:  3 Current Number is:  4 Sum:  7\n",
      "Previous Number is:  4 Current Number is:  5 Sum:  9\n",
      "Previous Number is:  5 Current Number is:  6 Sum:  11\n",
      "Previous Number is:  6 Current Number is:  7 Sum:  13\n",
      "Previous Number is:  7 Current Number is:  8 Sum:  15\n",
      "Previous Number is:  8 Current Number is:  9 Sum:  17\n"
     ]
    }
   ],
   "source": [
    "sumNum(10)"
   ]
  },
  {
   "cell_type": "code",
   "execution_count": 11,
   "metadata": {},
   "outputs": [
    {
     "name": "stdout",
     "output_type": "stream",
     "text": [
      "Previous Number is:  0 Current Number is:  0 Sum:  0\n",
      "Previous Number is:  0 Current Number is:  1 Sum:  1\n",
      "Previous Number is:  1 Current Number is:  2 Sum:  3\n",
      "Previous Number is:  2 Current Number is:  3 Sum:  5\n",
      "Previous Number is:  3 Current Number is:  4 Sum:  7\n",
      "Previous Number is:  4 Current Number is:  5 Sum:  9\n",
      "Previous Number is:  5 Current Number is:  6 Sum:  11\n",
      "Previous Number is:  6 Current Number is:  7 Sum:  13\n",
      "Previous Number is:  7 Current Number is:  8 Sum:  15\n",
      "Previous Number is:  8 Current Number is:  9 Sum:  17\n",
      "Previous Number is:  9 Current Number is:  10 Sum:  19\n",
      "Previous Number is:  10 Current Number is:  11 Sum:  21\n",
      "Previous Number is:  11 Current Number is:  12 Sum:  23\n",
      "Previous Number is:  12 Current Number is:  13 Sum:  25\n",
      "Previous Number is:  13 Current Number is:  14 Sum:  27\n",
      "Previous Number is:  14 Current Number is:  15 Sum:  29\n",
      "Previous Number is:  15 Current Number is:  16 Sum:  31\n",
      "Previous Number is:  16 Current Number is:  17 Sum:  33\n",
      "Previous Number is:  17 Current Number is:  18 Sum:  35\n",
      "Previous Number is:  18 Current Number is:  19 Sum:  37\n"
     ]
    }
   ],
   "source": [
    "sumNum(20)"
   ]
  },
  {
   "cell_type": "code",
   "execution_count": 13,
   "metadata": {},
   "outputs": [],
   "source": [
    "# Exercise 3: Given a string, display only those characters which are present at an even index number."
   ]
  },
  {
   "cell_type": "code",
   "execution_count": 45,
   "metadata": {},
   "outputs": [],
   "source": [
    "def evenStrValue(string):\n",
    "    for value in range(0,len(string),2):\n",
    "        print(string[value])"
   ]
  },
  {
   "cell_type": "code",
   "execution_count": 46,
   "metadata": {},
   "outputs": [
    {
     "name": "stdout",
     "output_type": "stream",
     "text": [
      "a\n",
      "i\n",
      "i\n"
     ]
    }
   ],
   "source": [
    "evenStrValue('aditi')"
   ]
  },
  {
   "cell_type": "code",
   "execution_count": 47,
   "metadata": {},
   "outputs": [
    {
     "name": "stdout",
     "output_type": "stream",
     "text": [
      "a\n",
      "i\n",
      "i\n"
     ]
    }
   ],
   "source": [
    "evenStrValue('aditii')"
   ]
  },
  {
   "cell_type": "code",
   "execution_count": 48,
   "metadata": {},
   "outputs": [
    {
     "name": "stdout",
     "output_type": "stream",
     "text": [
      "p\n",
      "n\n",
      "t\n",
      "v\n"
     ]
    }
   ],
   "source": [
    "evenStrValue('pynative')"
   ]
  },
  {
   "cell_type": "code",
   "execution_count": null,
   "metadata": {},
   "outputs": [],
   "source": []
  },
  {
   "cell_type": "code",
   "execution_count": null,
   "metadata": {},
   "outputs": [],
   "source": []
  }
 ],
 "metadata": {
  "kernelspec": {
   "display_name": "Python 3",
   "language": "python",
   "name": "python3"
  },
  "language_info": {
   "codemirror_mode": {
    "name": "ipython",
    "version": 3
   },
   "file_extension": ".py",
   "mimetype": "text/x-python",
   "name": "python",
   "nbconvert_exporter": "python",
   "pygments_lexer": "ipython3",
   "version": "3.8.5"
  }
 },
 "nbformat": 4,
 "nbformat_minor": 4
}
